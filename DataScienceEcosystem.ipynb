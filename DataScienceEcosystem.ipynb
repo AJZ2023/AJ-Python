{
 "cells": [
  {
   "cell_type": "markdown",
   "id": "ff47e43c",
   "metadata": {},
   "source": [
    "# Data Science Tools and Ecosystem"
   ]
  },
  {
   "cell_type": "markdown",
   "id": "a0d2ffff",
   "metadata": {},
   "source": [
    "## Data science tools and ecosystem are summarised in this notebook"
   ]
  },
  {
   "cell_type": "markdown",
   "id": "c51db708",
   "metadata": {},
   "source": [
    "**Objectives**\n",
    "- List of popular languages\n",
    "- List of popular libraries\n",
    "- Data science tools\n",
    "- Arithmetical expressions in python"
   ]
  },
  {
   "cell_type": "markdown",
   "id": "8039603a",
   "metadata": {},
   "source": [
    "Some of the commonly used languages by data scientists include\n",
    "1. Python\n",
    "2. R\n",
    "3. SQL"
   ]
  },
  {
   "cell_type": "markdown",
   "id": "20b49ccd",
   "metadata": {},
   "source": [
    "Some of the commonly used libraties by data scientists include\n",
    "1. NumPY\n",
    "2. Pandas\n",
    "3. Matplotlib\n",
    "4. SciPy\n",
    "5. Keras\n"
   ]
  },
  {
   "cell_type": "markdown",
   "id": "2cba2387",
   "metadata": {},
   "source": [
    "|Data Science Tools|\n",
    "|--------|\n",
    "|R Studio|\n",
    "|Apache Spark|\n",
    "|Tensorflow|"
   ]
  },
  {
   "cell_type": "markdown",
   "id": "8ce82560",
   "metadata": {},
   "source": [
    "### Below are a few examples of evaluating arithmetic expressions in Python"
   ]
  },
  {
   "cell_type": "code",
   "execution_count": 3,
   "id": "acc838fb",
   "metadata": {},
   "outputs": [
    {
     "name": "stdout",
     "output_type": "stream",
     "text": [
      "17\n"
     ]
    }
   ],
   "source": [
    "# This a simple arithmetic expression to mutiply then add integers\n",
    "print((3 * 4) + 5)"
   ]
  },
  {
   "cell_type": "code",
   "execution_count": 10,
   "id": "1fd2f6a0",
   "metadata": {},
   "outputs": [
    {
     "name": "stdout",
     "output_type": "stream",
     "text": [
      "Enter minute :--> 200\n",
      "Hour : minute :-->  3  :  20\n"
     ]
    }
   ],
   "source": [
    "# This will convert 200 minutes to hours by diving by 60\n",
    "min = int(input(\"Enter minute :--> \"))\n",
    "print (\"Hour : minute :--> \", int(min/60), \" : \", min % 60)  \n"
   ]
  },
  {
   "cell_type": "markdown",
   "id": "c6ef4c8d",
   "metadata": {},
   "source": [
    "## Author\n",
    "Arjun"
   ]
  },
  {
   "cell_type": "code",
   "execution_count": null,
   "id": "f71cbbdc",
   "metadata": {},
   "outputs": [],
   "source": []
  },
  {
   "cell_type": "code",
   "execution_count": null,
   "id": "2b2a0dd3",
   "metadata": {},
   "outputs": [],
   "source": []
  },
  {
   "cell_type": "code",
   "execution_count": null,
   "id": "cc97002a",
   "metadata": {},
   "outputs": [],
   "source": []
  },
  {
   "cell_type": "code",
   "execution_count": null,
   "id": "72d3fe69",
   "metadata": {},
   "outputs": [],
   "source": []
  },
  {
   "cell_type": "code",
   "execution_count": null,
   "id": "36d9a2e0",
   "metadata": {},
   "outputs": [],
   "source": []
  },
  {
   "cell_type": "code",
   "execution_count": null,
   "id": "b1ec79d0",
   "metadata": {},
   "outputs": [],
   "source": []
  },
  {
   "cell_type": "code",
   "execution_count": null,
   "id": "d535cc6a",
   "metadata": {},
   "outputs": [],
   "source": []
  }
 ],
 "metadata": {
  "kernelspec": {
   "display_name": "Python 3 (ipykernel)",
   "language": "python",
   "name": "python3"
  },
  "language_info": {
   "codemirror_mode": {
    "name": "ipython",
    "version": 3
   },
   "file_extension": ".py",
   "mimetype": "text/x-python",
   "name": "python",
   "nbconvert_exporter": "python",
   "pygments_lexer": "ipython3",
   "version": "3.9.13"
  }
 },
 "nbformat": 4,
 "nbformat_minor": 5
}
